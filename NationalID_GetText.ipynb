{
  "nbformat": 4,
  "nbformat_minor": 0,
  "metadata": {
    "colab": {
      "provenance": []
    },
    "kernelspec": {
      "name": "python3",
      "display_name": "Python 3"
    },
    "language_info": {
      "name": "python"
    }
  },
  "cells": [
    {
      "cell_type": "code",
      "source": [
        "!pip install easyocr"
      ],
      "metadata": {
        "id": "huMzSa_pcDnB"
      },
      "execution_count": null,
      "outputs": []
    },
    {
      "cell_type": "code",
      "source": [
        "import easyocr\n",
        "reader = easyocr.Reader(['fa']) # this needs to run only once to load the model into memory"
      ],
      "metadata": {
        "colab": {
          "base_uri": "https://localhost:8080/"
        },
        "id": "N6GHuqeIcQ8G",
        "outputId": "1cce5632-7002-482c-d335-e16c6b15b869"
      },
      "execution_count": 3,
      "outputs": [
        {
          "output_type": "stream",
          "name": "stderr",
          "text": [
            "WARNING:easyocr.easyocr:Neither CUDA nor MPS are available - defaulting to CPU. Note: This module is much faster with a GPU.\n",
            "WARNING:easyocr.easyocr:Downloading detection model, please wait. This may take several minutes depending upon your network connection.\n"
          ]
        },
        {
          "output_type": "stream",
          "name": "stdout",
          "text": [
            "Progress: |██████████████████████████████████████████████████| 100.0% Complete"
          ]
        },
        {
          "output_type": "stream",
          "name": "stderr",
          "text": [
            "WARNING:easyocr.easyocr:Downloading recognition model, please wait. This may take several minutes depending upon your network connection.\n"
          ]
        },
        {
          "output_type": "stream",
          "name": "stdout",
          "text": [
            "Progress: |██████████████████████████████████████████████████| 100.0% Complete"
          ]
        }
      ]
    },
    {
      "cell_type": "code",
      "source": [
        "import cv2\n",
        "\n",
        "# Load the image\n",
        "image = cv2.imread('/content/photo1649489670.jpeg')\n",
        "\n",
        "# Convert to grayscale\n",
        "gray_image = cv2.cvtColor(image, cv2.COLOR_BGR2GRAY)\n",
        "\n",
        "# Calculate new dimensions\n",
        "new_width = int(gray_image.shape[1] * 0.8)  # 80% of the original width\n",
        "new_height = int(gray_image.shape[0] * 0.85)  # 85% of the original height\n",
        "\n",
        "# Crop the image from the top and the right\n",
        "cropped_image = gray_image[int(gray_image.shape[0] * 0.2):new_height, :new_width]\n",
        "\n",
        "# Save or display the cropped image\n",
        "cv2.imwrite('cropped_image.jpg', cropped_image)"
      ],
      "metadata": {
        "colab": {
          "base_uri": "https://localhost:8080/"
        },
        "id": "N9_btrszfjie",
        "outputId": "3ec7504c-7671-4ab2-d1bd-ac7a9f78f245"
      },
      "execution_count": 19,
      "outputs": [
        {
          "output_type": "execute_result",
          "data": {
            "text/plain": [
              "True"
            ]
          },
          "metadata": {},
          "execution_count": 19
        }
      ]
    },
    {
      "cell_type": "code",
      "source": [
        "result = reader.readtext('/content/cropped_image.jpg', detail = 0)\n",
        "result"
      ],
      "metadata": {
        "colab": {
          "base_uri": "https://localhost:8080/"
        },
        "id": "zopSTNnHcTGV",
        "outputId": "d9f432b2-6385-4155-d246-5aaf1fbde615"
      },
      "execution_count": 20,
      "outputs": [
        {
          "output_type": "execute_result",
          "data": {
            "text/plain": [
              "['٤ ٥٥٣٧٣٥ ٧٢ ٥',\n",
              " 'محمدصادق',\n",
              " 'دارائى بزدى',\n",
              " '٥٢،١٧،؟١٣٧',\n",
              " 'محمد',\n",
              " '١٤٥١/٥١/١٨',\n",
              " 'علٰی']"
            ]
          },
          "metadata": {},
          "execution_count": 20
        }
      ]
    }
  ]
}